{
 "cells": [
  {
   "cell_type": "code",
   "execution_count": 1,
   "metadata": {},
   "outputs": [],
   "source": [
    "# primes chosen are 810049, 6025909, 56492201, 795173143, 3432001961"
   ]
  },
  {
   "cell_type": "code",
   "execution_count": 2,
   "metadata": {},
   "outputs": [
    {
     "name": "stderr",
     "output_type": "stream",
     "text": [
      "Matplotlib is building the font cache; this may take a moment.\n"
     ]
    }
   ],
   "source": [
    "import numpy as np\n",
    "import math\n",
    "import random \n",
    "import time\n",
    "from sage.matrix.berlekamp_massey import berlekamp_massey\n",
    "from sage.plot.histogram import Histogram, histogram\n",
    "from matplotlib import pyplot as plt\n",
    "np.random.seed(0)"
   ]
  },
  {
   "cell_type": "code",
   "execution_count": 5,
   "metadata": {},
   "outputs": [],
   "source": [
    "primes = [810049, 6025909, 56492201, 795173143, 3432001961]\n",
    "zetas = []\n",
    "for p in primes:\n",
    "    zeta = np.random.randint(low=1, high=p)\n",
    "    zetas.append(zeta)"
   ]
  },
  {
   "cell_type": "code",
   "execution_count": null,
   "metadata": {},
   "outputs": [],
   "source": [
    "def exponent(x,z,p):\n",
    "    return (z**x)%p\n",
    "exp_v = np.vectorize(exponent)"
   ]
  },
  {
   "cell_type": "code",
   "execution_count": null,
   "metadata": {},
   "outputs": [],
   "source": [
    "x_vec = np.random.randint(low=1, high=primes[0], size=1000)\n",
    "M = np.random.randint(1,10) * ((int(math.log2(primes[0]))+1)**2)\n",
    "print(zetas[0],primes[0],M)\n",
    "samples = []\n",
    "cur = x_vec\n",
    "for i in range(M):\n",
    "    nex = exp_v(cur,zetas[0],primes[0])\n",
    "    samples.append(nex)\n",
    "    cur = nex\n",
    "matrix = np.hstack(samples)"
   ]
  },
  {
   "cell_type": "code",
   "execution_count": null,
   "metadata": {},
   "outputs": [],
   "source": [
    "for z,p in zip(zetas,primes):\n",
    "    x_vec = np.random.randint(low=1, high=p, size=1000)\n",
    "    M = np.random.randint(1,10) * ((int(math.log2(p))+1)**2)\n",
    "    print(z,p,M)\n",
    "    samples = []\n",
    "    cur = x_vec\n",
    "    for i in range(M):\n",
    "        nex = exp_v(cur)\n",
    "        samples.append(nex)\n",
    "        cur = nex\n",
    "    "
   ]
  },
  {
   "cell_type": "code",
   "execution_count": null,
   "metadata": {},
   "outputs": [],
   "source": []
  }
 ],
 "metadata": {
  "kernelspec": {
   "display_name": "SageMath 9.3",
   "language": "sage",
   "name": "sagemath"
  },
  "language_info": {
   "codemirror_mode": {
    "name": "ipython",
    "version": 3
   },
   "file_extension": ".py",
   "mimetype": "text/x-python",
   "name": "python",
   "nbconvert_exporter": "python",
   "pygments_lexer": "ipython3",
   "version": "3.7.10"
  }
 },
 "nbformat": 4,
 "nbformat_minor": 4
}
